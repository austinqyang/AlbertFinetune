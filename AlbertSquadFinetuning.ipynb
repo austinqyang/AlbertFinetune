{
 "cells": [
  {
   "cell_type": "code",
   "execution_count": null,
   "metadata": {},
   "outputs": [],
   "source": [
    "import numpy as np\n",
    "from transformers import AlbertTokenizer, AlbertForQuestionAnswering # import AlBERT model\n",
    "from datasets import load_dataset"
   ]
  }
 ],
 "metadata": {
  "language_info": {
   "name": "python"
  }
 },
 "nbformat": 4,
 "nbformat_minor": 2
}
